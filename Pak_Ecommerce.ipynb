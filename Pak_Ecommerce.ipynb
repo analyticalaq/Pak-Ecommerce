{
  "nbformat": 4,
  "nbformat_minor": 0,
  "metadata": {
    "colab": {
      "provenance": [],
      "mount_file_id": "1cR8DAoyfmAKSYPlqaD-xBzGJo57N19eE",
      "authorship_tag": "ABX9TyMnNOcs7qEBauBivyBH1lqK",
      "include_colab_link": true
    },
    "kernelspec": {
      "name": "python3",
      "display_name": "Python 3"
    },
    "language_info": {
      "name": "python"
    }
  },
  "cells": [
    {
      "cell_type": "markdown",
      "metadata": {
        "id": "view-in-github",
        "colab_type": "text"
      },
      "source": [
        "<a href=\"https://colab.research.google.com/github/analyticalaq/Pak-Ecommerce/blob/main/Pak_Ecommerce.ipynb\" target=\"_parent\"><img src=\"https://colab.research.google.com/assets/colab-badge.svg\" alt=\"Open In Colab\"/></a>"
      ]
    },
    {
      "cell_type": "markdown",
      "source": [
        "# **Pakistan Ecommerce Large Datasets**"
      ],
      "metadata": {
        "id": "TZkPCqS7cvRR"
      }
    },
    {
      "cell_type": "markdown",
      "source": [
        "**import library**"
      ],
      "metadata": {
        "id": "9snLbvamd2XJ"
      }
    },
    {
      "cell_type": "code",
      "execution_count": null,
      "metadata": {
        "id": "jLWxcusQcmgi"
      },
      "outputs": [],
      "source": [
        "import pandas as pd\n",
        "import numpy as np\n",
        "import matplotlib.pyplot as plt\n",
        "import seaborn as sns"
      ]
    },
    {
      "cell_type": "code",
      "source": [
        "ecom_data=pd.read_csv('/content/drive/MyDrive/Pak Ecommerce /wrangle pakistan largest ecommerce dataset.csv',delimiter=',')"
      ],
      "metadata": {
        "colab": {
          "base_uri": "https://localhost:8080/"
        },
        "id": "C25_UqAfcnsR",
        "outputId": "d92276c3-4bda-4518-9f9a-5367c1f540dd"
      },
      "execution_count": null,
      "outputs": [
        {
          "output_type": "stream",
          "name": "stderr",
          "text": [
            "/usr/local/lib/python3.7/dist-packages/IPython/core/interactiveshell.py:3326: DtypeWarning: Columns (8) have mixed types.Specify dtype option on import or set low_memory=False.\n",
            "  exec(code_obj, self.user_global_ns, self.user_ns)\n"
          ]
        }
      ]
    },
    {
      "cell_type": "code",
      "source": [
        "ecom_data.head(2)"
      ],
      "metadata": {
        "colab": {
          "base_uri": "https://localhost:8080/",
          "height": 310
        },
        "id": "QxjhN8gNcnuB",
        "outputId": "b1d39395-fbca-4b16-a1a9-1e57823b4007"
      },
      "execution_count": null,
      "outputs": [
        {
          "output_type": "execute_result",
          "data": {
            "text/plain": [
              "   Unnamed: 0   item_id    status created_at  \\\n",
              "0           0  211131.0  complete   7/1/2016   \n",
              "1           1  211133.0  canceled   7/1/2016   \n",
              "\n",
              "                                                 sku   price  qty_ordered  \\\n",
              "0                                  kreations_YI 06-L  1950.0          1.0   \n",
              "1  kcc_Buy 2 Frey Air Freshener & Get 1 Kasual Bo...   240.0          1.0   \n",
              "\n",
              "   grand_total increment_id    category_name_1  ... payment_method  \\\n",
              "0       1950.0    100147443    Women's Fashion  ...            cod   \n",
              "1        240.0    100147444  Beauty & Grooming  ...            cod   \n",
              "\n",
              "   Working_Date BI_Status     _MV_    Year Month  Customer_Since     M-Y  \\\n",
              "0      7/1/2016     #REF!   1,950   2016.0   7.0          2016-7  7-2016   \n",
              "1      7/1/2016     Gross     240   2016.0   7.0          2016-7  7-2016   \n",
              "\n",
              "     FY Customer_ID  \n",
              "0  FY17         1.0  \n",
              "1  FY17         2.0  \n",
              "\n",
              "[2 rows x 22 columns]"
            ],
            "text/html": [
              "\n",
              "  <div id=\"df-491b81c9-c452-403d-95e9-535d38737767\">\n",
              "    <div class=\"colab-df-container\">\n",
              "      <div>\n",
              "<style scoped>\n",
              "    .dataframe tbody tr th:only-of-type {\n",
              "        vertical-align: middle;\n",
              "    }\n",
              "\n",
              "    .dataframe tbody tr th {\n",
              "        vertical-align: top;\n",
              "    }\n",
              "\n",
              "    .dataframe thead th {\n",
              "        text-align: right;\n",
              "    }\n",
              "</style>\n",
              "<table border=\"1\" class=\"dataframe\">\n",
              "  <thead>\n",
              "    <tr style=\"text-align: right;\">\n",
              "      <th></th>\n",
              "      <th>Unnamed: 0</th>\n",
              "      <th>item_id</th>\n",
              "      <th>status</th>\n",
              "      <th>created_at</th>\n",
              "      <th>sku</th>\n",
              "      <th>price</th>\n",
              "      <th>qty_ordered</th>\n",
              "      <th>grand_total</th>\n",
              "      <th>increment_id</th>\n",
              "      <th>category_name_1</th>\n",
              "      <th>...</th>\n",
              "      <th>payment_method</th>\n",
              "      <th>Working_Date</th>\n",
              "      <th>BI_Status</th>\n",
              "      <th>_MV_</th>\n",
              "      <th>Year</th>\n",
              "      <th>Month</th>\n",
              "      <th>Customer_Since</th>\n",
              "      <th>M-Y</th>\n",
              "      <th>FY</th>\n",
              "      <th>Customer_ID</th>\n",
              "    </tr>\n",
              "  </thead>\n",
              "  <tbody>\n",
              "    <tr>\n",
              "      <th>0</th>\n",
              "      <td>0</td>\n",
              "      <td>211131.0</td>\n",
              "      <td>complete</td>\n",
              "      <td>7/1/2016</td>\n",
              "      <td>kreations_YI 06-L</td>\n",
              "      <td>1950.0</td>\n",
              "      <td>1.0</td>\n",
              "      <td>1950.0</td>\n",
              "      <td>100147443</td>\n",
              "      <td>Women's Fashion</td>\n",
              "      <td>...</td>\n",
              "      <td>cod</td>\n",
              "      <td>7/1/2016</td>\n",
              "      <td>#REF!</td>\n",
              "      <td>1,950</td>\n",
              "      <td>2016.0</td>\n",
              "      <td>7.0</td>\n",
              "      <td>2016-7</td>\n",
              "      <td>7-2016</td>\n",
              "      <td>FY17</td>\n",
              "      <td>1.0</td>\n",
              "    </tr>\n",
              "    <tr>\n",
              "      <th>1</th>\n",
              "      <td>1</td>\n",
              "      <td>211133.0</td>\n",
              "      <td>canceled</td>\n",
              "      <td>7/1/2016</td>\n",
              "      <td>kcc_Buy 2 Frey Air Freshener &amp; Get 1 Kasual Bo...</td>\n",
              "      <td>240.0</td>\n",
              "      <td>1.0</td>\n",
              "      <td>240.0</td>\n",
              "      <td>100147444</td>\n",
              "      <td>Beauty &amp; Grooming</td>\n",
              "      <td>...</td>\n",
              "      <td>cod</td>\n",
              "      <td>7/1/2016</td>\n",
              "      <td>Gross</td>\n",
              "      <td>240</td>\n",
              "      <td>2016.0</td>\n",
              "      <td>7.0</td>\n",
              "      <td>2016-7</td>\n",
              "      <td>7-2016</td>\n",
              "      <td>FY17</td>\n",
              "      <td>2.0</td>\n",
              "    </tr>\n",
              "  </tbody>\n",
              "</table>\n",
              "<p>2 rows × 22 columns</p>\n",
              "</div>\n",
              "      <button class=\"colab-df-convert\" onclick=\"convertToInteractive('df-491b81c9-c452-403d-95e9-535d38737767')\"\n",
              "              title=\"Convert this dataframe to an interactive table.\"\n",
              "              style=\"display:none;\">\n",
              "        \n",
              "  <svg xmlns=\"http://www.w3.org/2000/svg\" height=\"24px\"viewBox=\"0 0 24 24\"\n",
              "       width=\"24px\">\n",
              "    <path d=\"M0 0h24v24H0V0z\" fill=\"none\"/>\n",
              "    <path d=\"M18.56 5.44l.94 2.06.94-2.06 2.06-.94-2.06-.94-.94-2.06-.94 2.06-2.06.94zm-11 1L8.5 8.5l.94-2.06 2.06-.94-2.06-.94L8.5 2.5l-.94 2.06-2.06.94zm10 10l.94 2.06.94-2.06 2.06-.94-2.06-.94-.94-2.06-.94 2.06-2.06.94z\"/><path d=\"M17.41 7.96l-1.37-1.37c-.4-.4-.92-.59-1.43-.59-.52 0-1.04.2-1.43.59L10.3 9.45l-7.72 7.72c-.78.78-.78 2.05 0 2.83L4 21.41c.39.39.9.59 1.41.59.51 0 1.02-.2 1.41-.59l7.78-7.78 2.81-2.81c.8-.78.8-2.07 0-2.86zM5.41 20L4 18.59l7.72-7.72 1.47 1.35L5.41 20z\"/>\n",
              "  </svg>\n",
              "      </button>\n",
              "      \n",
              "  <style>\n",
              "    .colab-df-container {\n",
              "      display:flex;\n",
              "      flex-wrap:wrap;\n",
              "      gap: 12px;\n",
              "    }\n",
              "\n",
              "    .colab-df-convert {\n",
              "      background-color: #E8F0FE;\n",
              "      border: none;\n",
              "      border-radius: 50%;\n",
              "      cursor: pointer;\n",
              "      display: none;\n",
              "      fill: #1967D2;\n",
              "      height: 32px;\n",
              "      padding: 0 0 0 0;\n",
              "      width: 32px;\n",
              "    }\n",
              "\n",
              "    .colab-df-convert:hover {\n",
              "      background-color: #E2EBFA;\n",
              "      box-shadow: 0px 1px 2px rgba(60, 64, 67, 0.3), 0px 1px 3px 1px rgba(60, 64, 67, 0.15);\n",
              "      fill: #174EA6;\n",
              "    }\n",
              "\n",
              "    [theme=dark] .colab-df-convert {\n",
              "      background-color: #3B4455;\n",
              "      fill: #D2E3FC;\n",
              "    }\n",
              "\n",
              "    [theme=dark] .colab-df-convert:hover {\n",
              "      background-color: #434B5C;\n",
              "      box-shadow: 0px 1px 3px 1px rgba(0, 0, 0, 0.15);\n",
              "      filter: drop-shadow(0px 1px 2px rgba(0, 0, 0, 0.3));\n",
              "      fill: #FFFFFF;\n",
              "    }\n",
              "  </style>\n",
              "\n",
              "      <script>\n",
              "        const buttonEl =\n",
              "          document.querySelector('#df-491b81c9-c452-403d-95e9-535d38737767 button.colab-df-convert');\n",
              "        buttonEl.style.display =\n",
              "          google.colab.kernel.accessAllowed ? 'block' : 'none';\n",
              "\n",
              "        async function convertToInteractive(key) {\n",
              "          const element = document.querySelector('#df-491b81c9-c452-403d-95e9-535d38737767');\n",
              "          const dataTable =\n",
              "            await google.colab.kernel.invokeFunction('convertToInteractive',\n",
              "                                                     [key], {});\n",
              "          if (!dataTable) return;\n",
              "\n",
              "          const docLinkHtml = 'Like what you see? Visit the ' +\n",
              "            '<a target=\"_blank\" href=https://colab.research.google.com/notebooks/data_table.ipynb>data table notebook</a>'\n",
              "            + ' to learn more about interactive tables.';\n",
              "          element.innerHTML = '';\n",
              "          dataTable['output_type'] = 'display_data';\n",
              "          await google.colab.output.renderOutput(dataTable, element);\n",
              "          const docLink = document.createElement('div');\n",
              "          docLink.innerHTML = docLinkHtml;\n",
              "          element.appendChild(docLink);\n",
              "        }\n",
              "      </script>\n",
              "    </div>\n",
              "  </div>\n",
              "  "
            ]
          },
          "metadata": {},
          "execution_count": 9
        }
      ]
    },
    {
      "cell_type": "code",
      "source": [
        "ecom_data.info()"
      ],
      "metadata": {
        "colab": {
          "base_uri": "https://localhost:8080/"
        },
        "id": "Ajj7S82tcnxd",
        "outputId": "9e102d71-be88-4dd5-9e83-09d87ab61559"
      },
      "execution_count": null,
      "outputs": [
        {
          "output_type": "stream",
          "name": "stdout",
          "text": [
            "<class 'pandas.core.frame.DataFrame'>\n",
            "RangeIndex: 584513 entries, 0 to 584512\n",
            "Data columns (total 22 columns):\n",
            " #   Column                 Non-Null Count   Dtype  \n",
            "---  ------                 --------------   -----  \n",
            " 0   Unnamed: 0             584513 non-null  int64  \n",
            " 1   item_id                584513 non-null  float64\n",
            " 2   status                 584513 non-null  object \n",
            " 3   created_at             584513 non-null  object \n",
            " 4   sku                    584513 non-null  object \n",
            " 5   price                  584513 non-null  float64\n",
            " 6   qty_ordered            584513 non-null  float64\n",
            " 7   grand_total            584513 non-null  float64\n",
            " 8   increment_id           584513 non-null  object \n",
            " 9   category_name_1        584513 non-null  object \n",
            " 10  sales_commission_code  584513 non-null  object \n",
            " 11  discount_amount        584513 non-null  float64\n",
            " 12  payment_method         584513 non-null  object \n",
            " 13  Working_Date           584513 non-null  object \n",
            " 14  BI_Status              584513 non-null  object \n",
            " 15  _MV_                   584513 non-null  object \n",
            " 16  Year                   584513 non-null  float64\n",
            " 17  Month                  584513 non-null  float64\n",
            " 18  Customer_Since         584513 non-null  object \n",
            " 19  M-Y                    584513 non-null  object \n",
            " 20  FY                     584513 non-null  object \n",
            " 21  Customer_ID            584513 non-null  float64\n",
            "dtypes: float64(8), int64(1), object(13)\n",
            "memory usage: 98.1+ MB\n"
          ]
        }
      ]
    },
    {
      "cell_type": "code",
      "source": [
        "ecom_data.shape"
      ],
      "metadata": {
        "colab": {
          "base_uri": "https://localhost:8080/"
        },
        "id": "nPWFD5OTcn2I",
        "outputId": "5d71e766-d584-4a30-e05a-d979c5449e57"
      },
      "execution_count": null,
      "outputs": [
        {
          "output_type": "execute_result",
          "data": {
            "text/plain": [
              "(584513, 22)"
            ]
          },
          "metadata": {},
          "execution_count": 11
        }
      ]
    },
    {
      "cell_type": "markdown",
      "source": [
        "# **EDD**"
      ],
      "metadata": {
        "id": "EakpN6I3gtD5"
      }
    },
    {
      "cell_type": "code",
      "source": [
        "ecom_data.describe()"
      ],
      "metadata": {
        "colab": {
          "base_uri": "https://localhost:8080/",
          "height": 364
        },
        "id": "Cv4ZPW3Cgsaw",
        "outputId": "7693ea70-d7b7-4e02-e711-8103d0054dde"
      },
      "execution_count": null,
      "outputs": [
        {
          "output_type": "execute_result",
          "data": {
            "text/plain": [
              "          Unnamed: 0        item_id         price    qty_ordered  \\\n",
              "count  584513.000000  584513.000000  5.845130e+05  584513.000000   \n",
              "mean   292258.168624  565663.128495  6.348821e+03       1.296375   \n",
              "std    168737.476592  200120.929873  1.494940e+04       3.996094   \n",
              "min         0.000000  211131.000000  0.000000e+00       1.000000   \n",
              "25%    146128.000000  394997.000000  3.600000e+02       1.000000   \n",
              "50%    292256.000000  568417.000000  8.990000e+02       1.000000   \n",
              "75%    438388.000000  739102.000000  4.070000e+03       1.000000   \n",
              "max    584523.000000  905208.000000  1.012626e+06    1000.000000   \n",
              "\n",
              "        grand_total  discount_amount           Year          Month  \\\n",
              "count  5.845130e+05    584513.000000  584513.000000  584513.000000   \n",
              "mean   8.530676e+03       499.502175    2017.044097       7.167746   \n",
              "std    6.132138e+04      1506.955668       0.707349       3.486270   \n",
              "min   -1.594000e+03      -599.500000    2016.000000       1.000000   \n",
              "25%    9.450000e+02         0.000000    2017.000000       4.000000   \n",
              "50%    1.960400e+03         0.000000    2017.000000       7.000000   \n",
              "75%    6.999000e+03       160.520000    2018.000000      11.000000   \n",
              "max    1.788800e+07     90300.000000    2018.000000      12.000000   \n",
              "\n",
              "         Customer_ID  \n",
              "count  584513.000000  \n",
              "mean    45790.511965  \n",
              "std     34414.962389  \n",
              "min         1.000000  \n",
              "25%     13516.000000  \n",
              "50%     42856.000000  \n",
              "75%     73536.000000  \n",
              "max    115326.000000  "
            ],
            "text/html": [
              "\n",
              "  <div id=\"df-efa6f1d4-88dd-4a11-a4ca-3f558f6a5147\">\n",
              "    <div class=\"colab-df-container\">\n",
              "      <div>\n",
              "<style scoped>\n",
              "    .dataframe tbody tr th:only-of-type {\n",
              "        vertical-align: middle;\n",
              "    }\n",
              "\n",
              "    .dataframe tbody tr th {\n",
              "        vertical-align: top;\n",
              "    }\n",
              "\n",
              "    .dataframe thead th {\n",
              "        text-align: right;\n",
              "    }\n",
              "</style>\n",
              "<table border=\"1\" class=\"dataframe\">\n",
              "  <thead>\n",
              "    <tr style=\"text-align: right;\">\n",
              "      <th></th>\n",
              "      <th>Unnamed: 0</th>\n",
              "      <th>item_id</th>\n",
              "      <th>price</th>\n",
              "      <th>qty_ordered</th>\n",
              "      <th>grand_total</th>\n",
              "      <th>discount_amount</th>\n",
              "      <th>Year</th>\n",
              "      <th>Month</th>\n",
              "      <th>Customer_ID</th>\n",
              "    </tr>\n",
              "  </thead>\n",
              "  <tbody>\n",
              "    <tr>\n",
              "      <th>count</th>\n",
              "      <td>584513.000000</td>\n",
              "      <td>584513.000000</td>\n",
              "      <td>5.845130e+05</td>\n",
              "      <td>584513.000000</td>\n",
              "      <td>5.845130e+05</td>\n",
              "      <td>584513.000000</td>\n",
              "      <td>584513.000000</td>\n",
              "      <td>584513.000000</td>\n",
              "      <td>584513.000000</td>\n",
              "    </tr>\n",
              "    <tr>\n",
              "      <th>mean</th>\n",
              "      <td>292258.168624</td>\n",
              "      <td>565663.128495</td>\n",
              "      <td>6.348821e+03</td>\n",
              "      <td>1.296375</td>\n",
              "      <td>8.530676e+03</td>\n",
              "      <td>499.502175</td>\n",
              "      <td>2017.044097</td>\n",
              "      <td>7.167746</td>\n",
              "      <td>45790.511965</td>\n",
              "    </tr>\n",
              "    <tr>\n",
              "      <th>std</th>\n",
              "      <td>168737.476592</td>\n",
              "      <td>200120.929873</td>\n",
              "      <td>1.494940e+04</td>\n",
              "      <td>3.996094</td>\n",
              "      <td>6.132138e+04</td>\n",
              "      <td>1506.955668</td>\n",
              "      <td>0.707349</td>\n",
              "      <td>3.486270</td>\n",
              "      <td>34414.962389</td>\n",
              "    </tr>\n",
              "    <tr>\n",
              "      <th>min</th>\n",
              "      <td>0.000000</td>\n",
              "      <td>211131.000000</td>\n",
              "      <td>0.000000e+00</td>\n",
              "      <td>1.000000</td>\n",
              "      <td>-1.594000e+03</td>\n",
              "      <td>-599.500000</td>\n",
              "      <td>2016.000000</td>\n",
              "      <td>1.000000</td>\n",
              "      <td>1.000000</td>\n",
              "    </tr>\n",
              "    <tr>\n",
              "      <th>25%</th>\n",
              "      <td>146128.000000</td>\n",
              "      <td>394997.000000</td>\n",
              "      <td>3.600000e+02</td>\n",
              "      <td>1.000000</td>\n",
              "      <td>9.450000e+02</td>\n",
              "      <td>0.000000</td>\n",
              "      <td>2017.000000</td>\n",
              "      <td>4.000000</td>\n",
              "      <td>13516.000000</td>\n",
              "    </tr>\n",
              "    <tr>\n",
              "      <th>50%</th>\n",
              "      <td>292256.000000</td>\n",
              "      <td>568417.000000</td>\n",
              "      <td>8.990000e+02</td>\n",
              "      <td>1.000000</td>\n",
              "      <td>1.960400e+03</td>\n",
              "      <td>0.000000</td>\n",
              "      <td>2017.000000</td>\n",
              "      <td>7.000000</td>\n",
              "      <td>42856.000000</td>\n",
              "    </tr>\n",
              "    <tr>\n",
              "      <th>75%</th>\n",
              "      <td>438388.000000</td>\n",
              "      <td>739102.000000</td>\n",
              "      <td>4.070000e+03</td>\n",
              "      <td>1.000000</td>\n",
              "      <td>6.999000e+03</td>\n",
              "      <td>160.520000</td>\n",
              "      <td>2018.000000</td>\n",
              "      <td>11.000000</td>\n",
              "      <td>73536.000000</td>\n",
              "    </tr>\n",
              "    <tr>\n",
              "      <th>max</th>\n",
              "      <td>584523.000000</td>\n",
              "      <td>905208.000000</td>\n",
              "      <td>1.012626e+06</td>\n",
              "      <td>1000.000000</td>\n",
              "      <td>1.788800e+07</td>\n",
              "      <td>90300.000000</td>\n",
              "      <td>2018.000000</td>\n",
              "      <td>12.000000</td>\n",
              "      <td>115326.000000</td>\n",
              "    </tr>\n",
              "  </tbody>\n",
              "</table>\n",
              "</div>\n",
              "      <button class=\"colab-df-convert\" onclick=\"convertToInteractive('df-efa6f1d4-88dd-4a11-a4ca-3f558f6a5147')\"\n",
              "              title=\"Convert this dataframe to an interactive table.\"\n",
              "              style=\"display:none;\">\n",
              "        \n",
              "  <svg xmlns=\"http://www.w3.org/2000/svg\" height=\"24px\"viewBox=\"0 0 24 24\"\n",
              "       width=\"24px\">\n",
              "    <path d=\"M0 0h24v24H0V0z\" fill=\"none\"/>\n",
              "    <path d=\"M18.56 5.44l.94 2.06.94-2.06 2.06-.94-2.06-.94-.94-2.06-.94 2.06-2.06.94zm-11 1L8.5 8.5l.94-2.06 2.06-.94-2.06-.94L8.5 2.5l-.94 2.06-2.06.94zm10 10l.94 2.06.94-2.06 2.06-.94-2.06-.94-.94-2.06-.94 2.06-2.06.94z\"/><path d=\"M17.41 7.96l-1.37-1.37c-.4-.4-.92-.59-1.43-.59-.52 0-1.04.2-1.43.59L10.3 9.45l-7.72 7.72c-.78.78-.78 2.05 0 2.83L4 21.41c.39.39.9.59 1.41.59.51 0 1.02-.2 1.41-.59l7.78-7.78 2.81-2.81c.8-.78.8-2.07 0-2.86zM5.41 20L4 18.59l7.72-7.72 1.47 1.35L5.41 20z\"/>\n",
              "  </svg>\n",
              "      </button>\n",
              "      \n",
              "  <style>\n",
              "    .colab-df-container {\n",
              "      display:flex;\n",
              "      flex-wrap:wrap;\n",
              "      gap: 12px;\n",
              "    }\n",
              "\n",
              "    .colab-df-convert {\n",
              "      background-color: #E8F0FE;\n",
              "      border: none;\n",
              "      border-radius: 50%;\n",
              "      cursor: pointer;\n",
              "      display: none;\n",
              "      fill: #1967D2;\n",
              "      height: 32px;\n",
              "      padding: 0 0 0 0;\n",
              "      width: 32px;\n",
              "    }\n",
              "\n",
              "    .colab-df-convert:hover {\n",
              "      background-color: #E2EBFA;\n",
              "      box-shadow: 0px 1px 2px rgba(60, 64, 67, 0.3), 0px 1px 3px 1px rgba(60, 64, 67, 0.15);\n",
              "      fill: #174EA6;\n",
              "    }\n",
              "\n",
              "    [theme=dark] .colab-df-convert {\n",
              "      background-color: #3B4455;\n",
              "      fill: #D2E3FC;\n",
              "    }\n",
              "\n",
              "    [theme=dark] .colab-df-convert:hover {\n",
              "      background-color: #434B5C;\n",
              "      box-shadow: 0px 1px 3px 1px rgba(0, 0, 0, 0.15);\n",
              "      filter: drop-shadow(0px 1px 2px rgba(0, 0, 0, 0.3));\n",
              "      fill: #FFFFFF;\n",
              "    }\n",
              "  </style>\n",
              "\n",
              "      <script>\n",
              "        const buttonEl =\n",
              "          document.querySelector('#df-efa6f1d4-88dd-4a11-a4ca-3f558f6a5147 button.colab-df-convert');\n",
              "        buttonEl.style.display =\n",
              "          google.colab.kernel.accessAllowed ? 'block' : 'none';\n",
              "\n",
              "        async function convertToInteractive(key) {\n",
              "          const element = document.querySelector('#df-efa6f1d4-88dd-4a11-a4ca-3f558f6a5147');\n",
              "          const dataTable =\n",
              "            await google.colab.kernel.invokeFunction('convertToInteractive',\n",
              "                                                     [key], {});\n",
              "          if (!dataTable) return;\n",
              "\n",
              "          const docLinkHtml = 'Like what you see? Visit the ' +\n",
              "            '<a target=\"_blank\" href=https://colab.research.google.com/notebooks/data_table.ipynb>data table notebook</a>'\n",
              "            + ' to learn more about interactive tables.';\n",
              "          element.innerHTML = '';\n",
              "          dataTable['output_type'] = 'display_data';\n",
              "          await google.colab.output.renderOutput(dataTable, element);\n",
              "          const docLink = document.createElement('div');\n",
              "          docLink.innerHTML = docLinkHtml;\n",
              "          element.appendChild(docLink);\n",
              "        }\n",
              "      </script>\n",
              "    </div>\n",
              "  </div>\n",
              "  "
            ]
          },
          "metadata": {},
          "execution_count": 14
        }
      ]
    },
    {
      "cell_type": "code",
      "source": [
        "ecom_data.isnull().sum()"
      ],
      "metadata": {
        "colab": {
          "base_uri": "https://localhost:8080/"
        },
        "id": "V5d6SFZXxAqY",
        "outputId": "7e336278-043d-459f-e9f6-8d85af960298"
      },
      "execution_count": null,
      "outputs": [
        {
          "output_type": "execute_result",
          "data": {
            "text/plain": [
              "Unnamed: 0               0\n",
              "item_id                  0\n",
              "status                   0\n",
              "created_at               0\n",
              "sku                      0\n",
              "price                    0\n",
              "qty_ordered              0\n",
              "grand_total              0\n",
              "increment_id             0\n",
              "category_name_1          0\n",
              "sales_commission_code    0\n",
              "discount_amount          0\n",
              "payment_method           0\n",
              "Working_Date             0\n",
              "BI_Status                0\n",
              "_MV_                     0\n",
              "Year                     0\n",
              "Month                    0\n",
              "Customer_Since           0\n",
              "M-Y                      0\n",
              "FY                       0\n",
              "Customer_ID              0\n",
              "dtype: int64"
            ]
          },
          "metadata": {},
          "execution_count": 24
        }
      ]
    },
    {
      "cell_type": "code",
      "source": [
        "ecom_data.duplicated().value_counts()"
      ],
      "metadata": {
        "colab": {
          "base_uri": "https://localhost:8080/"
        },
        "id": "3ot7We96xyr9",
        "outputId": "09dcce8b-82b7-417f-8b59-a30a104dab8a"
      },
      "execution_count": null,
      "outputs": [
        {
          "output_type": "execute_result",
          "data": {
            "text/plain": [
              "False    584513\n",
              "dtype: int64"
            ]
          },
          "metadata": {},
          "execution_count": 26
        }
      ]
    },
    {
      "cell_type": "code",
      "source": [
        "ecom_data['price'].describe()"
      ],
      "metadata": {
        "colab": {
          "base_uri": "https://localhost:8080/"
        },
        "id": "2DHbn4ksxy0I",
        "outputId": "59af62aa-a1fb-4235-a134-db4fff0b615f"
      },
      "execution_count": null,
      "outputs": [
        {
          "output_type": "execute_result",
          "data": {
            "text/plain": [
              "count    5.845130e+05\n",
              "mean     6.348821e+03\n",
              "std      1.494940e+04\n",
              "min      0.000000e+00\n",
              "25%      3.600000e+02\n",
              "50%      8.990000e+02\n",
              "75%      4.070000e+03\n",
              "max      1.012626e+06\n",
              "Name: price, dtype: float64"
            ]
          },
          "metadata": {},
          "execution_count": 38
        }
      ]
    },
    {
      "cell_type": "code",
      "source": [
        "ecom_data['price'].agg(['mean','skew','std','kurtosis'])"
      ],
      "metadata": {
        "colab": {
          "base_uri": "https://localhost:8080/"
        },
        "id": "OfGiEUXRxy2g",
        "outputId": "86bf761f-1511-4156-f1fc-972ba89a2fe2"
      },
      "execution_count": null,
      "outputs": [
        {
          "output_type": "execute_result",
          "data": {
            "text/plain": [
              "mean         6348.820623\n",
              "skew            5.228668\n",
              "std         14949.395345\n",
              "kurtosis       71.247162\n",
              "Name: price, dtype: float64"
            ]
          },
          "metadata": {},
          "execution_count": 45
        }
      ]
    },
    {
      "cell_type": "code",
      "source": [
        "ecom_data.corr()"
      ],
      "metadata": {
        "colab": {
          "base_uri": "https://localhost:8080/",
          "height": 393
        },
        "id": "UmaBspEsxy8r",
        "outputId": "0c8b55ff-3d26-43ca-de69-03adc44cfd08"
      },
      "execution_count": null,
      "outputs": [
        {
          "output_type": "execute_result",
          "data": {
            "text/plain": [
              "                 Unnamed: 0   item_id     price  qty_ordered  grand_total  \\\n",
              "Unnamed: 0         1.000000  0.999817  0.142505     0.033336     0.049567   \n",
              "item_id            0.999817  1.000000  0.141603     0.033377     0.049266   \n",
              "price              0.142505  0.141603  1.000000    -0.017628     0.277607   \n",
              "qty_ordered        0.033336  0.033377 -0.017628     1.000000     0.753488   \n",
              "grand_total        0.049567  0.049266  0.277607     0.753488     1.000000   \n",
              "discount_amount    0.136489  0.136523  0.455577    -0.007620     0.104825   \n",
              "Year               0.918658  0.920563  0.129060     0.039232     0.048434   \n",
              "Month             -0.288827 -0.292842 -0.034481    -0.033649    -0.020889   \n",
              "Customer_ID        0.780366  0.780030  0.156808     0.025671     0.054043   \n",
              "\n",
              "                 discount_amount      Year     Month  Customer_ID  \n",
              "Unnamed: 0              0.136489  0.918658 -0.288827     0.780366  \n",
              "item_id                 0.136523  0.920563 -0.292842     0.780030  \n",
              "price                   0.455577  0.129060 -0.034481     0.156808  \n",
              "qty_ordered            -0.007620  0.039232 -0.033649     0.025671  \n",
              "grand_total             0.104825  0.048434 -0.020889     0.054043  \n",
              "discount_amount         1.000000  0.116074 -0.013395     0.134847  \n",
              "Year                    0.116074  1.000000 -0.634699     0.717476  \n",
              "Month                  -0.013395 -0.634699  1.000000    -0.231808  \n",
              "Customer_ID             0.134847  0.717476 -0.231808     1.000000  "
            ],
            "text/html": [
              "\n",
              "  <div id=\"df-a17d83ea-750a-495f-9f68-6f7ea2f4e4e2\">\n",
              "    <div class=\"colab-df-container\">\n",
              "      <div>\n",
              "<style scoped>\n",
              "    .dataframe tbody tr th:only-of-type {\n",
              "        vertical-align: middle;\n",
              "    }\n",
              "\n",
              "    .dataframe tbody tr th {\n",
              "        vertical-align: top;\n",
              "    }\n",
              "\n",
              "    .dataframe thead th {\n",
              "        text-align: right;\n",
              "    }\n",
              "</style>\n",
              "<table border=\"1\" class=\"dataframe\">\n",
              "  <thead>\n",
              "    <tr style=\"text-align: right;\">\n",
              "      <th></th>\n",
              "      <th>Unnamed: 0</th>\n",
              "      <th>item_id</th>\n",
              "      <th>price</th>\n",
              "      <th>qty_ordered</th>\n",
              "      <th>grand_total</th>\n",
              "      <th>discount_amount</th>\n",
              "      <th>Year</th>\n",
              "      <th>Month</th>\n",
              "      <th>Customer_ID</th>\n",
              "    </tr>\n",
              "  </thead>\n",
              "  <tbody>\n",
              "    <tr>\n",
              "      <th>Unnamed: 0</th>\n",
              "      <td>1.000000</td>\n",
              "      <td>0.999817</td>\n",
              "      <td>0.142505</td>\n",
              "      <td>0.033336</td>\n",
              "      <td>0.049567</td>\n",
              "      <td>0.136489</td>\n",
              "      <td>0.918658</td>\n",
              "      <td>-0.288827</td>\n",
              "      <td>0.780366</td>\n",
              "    </tr>\n",
              "    <tr>\n",
              "      <th>item_id</th>\n",
              "      <td>0.999817</td>\n",
              "      <td>1.000000</td>\n",
              "      <td>0.141603</td>\n",
              "      <td>0.033377</td>\n",
              "      <td>0.049266</td>\n",
              "      <td>0.136523</td>\n",
              "      <td>0.920563</td>\n",
              "      <td>-0.292842</td>\n",
              "      <td>0.780030</td>\n",
              "    </tr>\n",
              "    <tr>\n",
              "      <th>price</th>\n",
              "      <td>0.142505</td>\n",
              "      <td>0.141603</td>\n",
              "      <td>1.000000</td>\n",
              "      <td>-0.017628</td>\n",
              "      <td>0.277607</td>\n",
              "      <td>0.455577</td>\n",
              "      <td>0.129060</td>\n",
              "      <td>-0.034481</td>\n",
              "      <td>0.156808</td>\n",
              "    </tr>\n",
              "    <tr>\n",
              "      <th>qty_ordered</th>\n",
              "      <td>0.033336</td>\n",
              "      <td>0.033377</td>\n",
              "      <td>-0.017628</td>\n",
              "      <td>1.000000</td>\n",
              "      <td>0.753488</td>\n",
              "      <td>-0.007620</td>\n",
              "      <td>0.039232</td>\n",
              "      <td>-0.033649</td>\n",
              "      <td>0.025671</td>\n",
              "    </tr>\n",
              "    <tr>\n",
              "      <th>grand_total</th>\n",
              "      <td>0.049567</td>\n",
              "      <td>0.049266</td>\n",
              "      <td>0.277607</td>\n",
              "      <td>0.753488</td>\n",
              "      <td>1.000000</td>\n",
              "      <td>0.104825</td>\n",
              "      <td>0.048434</td>\n",
              "      <td>-0.020889</td>\n",
              "      <td>0.054043</td>\n",
              "    </tr>\n",
              "    <tr>\n",
              "      <th>discount_amount</th>\n",
              "      <td>0.136489</td>\n",
              "      <td>0.136523</td>\n",
              "      <td>0.455577</td>\n",
              "      <td>-0.007620</td>\n",
              "      <td>0.104825</td>\n",
              "      <td>1.000000</td>\n",
              "      <td>0.116074</td>\n",
              "      <td>-0.013395</td>\n",
              "      <td>0.134847</td>\n",
              "    </tr>\n",
              "    <tr>\n",
              "      <th>Year</th>\n",
              "      <td>0.918658</td>\n",
              "      <td>0.920563</td>\n",
              "      <td>0.129060</td>\n",
              "      <td>0.039232</td>\n",
              "      <td>0.048434</td>\n",
              "      <td>0.116074</td>\n",
              "      <td>1.000000</td>\n",
              "      <td>-0.634699</td>\n",
              "      <td>0.717476</td>\n",
              "    </tr>\n",
              "    <tr>\n",
              "      <th>Month</th>\n",
              "      <td>-0.288827</td>\n",
              "      <td>-0.292842</td>\n",
              "      <td>-0.034481</td>\n",
              "      <td>-0.033649</td>\n",
              "      <td>-0.020889</td>\n",
              "      <td>-0.013395</td>\n",
              "      <td>-0.634699</td>\n",
              "      <td>1.000000</td>\n",
              "      <td>-0.231808</td>\n",
              "    </tr>\n",
              "    <tr>\n",
              "      <th>Customer_ID</th>\n",
              "      <td>0.780366</td>\n",
              "      <td>0.780030</td>\n",
              "      <td>0.156808</td>\n",
              "      <td>0.025671</td>\n",
              "      <td>0.054043</td>\n",
              "      <td>0.134847</td>\n",
              "      <td>0.717476</td>\n",
              "      <td>-0.231808</td>\n",
              "      <td>1.000000</td>\n",
              "    </tr>\n",
              "  </tbody>\n",
              "</table>\n",
              "</div>\n",
              "      <button class=\"colab-df-convert\" onclick=\"convertToInteractive('df-a17d83ea-750a-495f-9f68-6f7ea2f4e4e2')\"\n",
              "              title=\"Convert this dataframe to an interactive table.\"\n",
              "              style=\"display:none;\">\n",
              "        \n",
              "  <svg xmlns=\"http://www.w3.org/2000/svg\" height=\"24px\"viewBox=\"0 0 24 24\"\n",
              "       width=\"24px\">\n",
              "    <path d=\"M0 0h24v24H0V0z\" fill=\"none\"/>\n",
              "    <path d=\"M18.56 5.44l.94 2.06.94-2.06 2.06-.94-2.06-.94-.94-2.06-.94 2.06-2.06.94zm-11 1L8.5 8.5l.94-2.06 2.06-.94-2.06-.94L8.5 2.5l-.94 2.06-2.06.94zm10 10l.94 2.06.94-2.06 2.06-.94-2.06-.94-.94-2.06-.94 2.06-2.06.94z\"/><path d=\"M17.41 7.96l-1.37-1.37c-.4-.4-.92-.59-1.43-.59-.52 0-1.04.2-1.43.59L10.3 9.45l-7.72 7.72c-.78.78-.78 2.05 0 2.83L4 21.41c.39.39.9.59 1.41.59.51 0 1.02-.2 1.41-.59l7.78-7.78 2.81-2.81c.8-.78.8-2.07 0-2.86zM5.41 20L4 18.59l7.72-7.72 1.47 1.35L5.41 20z\"/>\n",
              "  </svg>\n",
              "      </button>\n",
              "      \n",
              "  <style>\n",
              "    .colab-df-container {\n",
              "      display:flex;\n",
              "      flex-wrap:wrap;\n",
              "      gap: 12px;\n",
              "    }\n",
              "\n",
              "    .colab-df-convert {\n",
              "      background-color: #E8F0FE;\n",
              "      border: none;\n",
              "      border-radius: 50%;\n",
              "      cursor: pointer;\n",
              "      display: none;\n",
              "      fill: #1967D2;\n",
              "      height: 32px;\n",
              "      padding: 0 0 0 0;\n",
              "      width: 32px;\n",
              "    }\n",
              "\n",
              "    .colab-df-convert:hover {\n",
              "      background-color: #E2EBFA;\n",
              "      box-shadow: 0px 1px 2px rgba(60, 64, 67, 0.3), 0px 1px 3px 1px rgba(60, 64, 67, 0.15);\n",
              "      fill: #174EA6;\n",
              "    }\n",
              "\n",
              "    [theme=dark] .colab-df-convert {\n",
              "      background-color: #3B4455;\n",
              "      fill: #D2E3FC;\n",
              "    }\n",
              "\n",
              "    [theme=dark] .colab-df-convert:hover {\n",
              "      background-color: #434B5C;\n",
              "      box-shadow: 0px 1px 3px 1px rgba(0, 0, 0, 0.15);\n",
              "      filter: drop-shadow(0px 1px 2px rgba(0, 0, 0, 0.3));\n",
              "      fill: #FFFFFF;\n",
              "    }\n",
              "  </style>\n",
              "\n",
              "      <script>\n",
              "        const buttonEl =\n",
              "          document.querySelector('#df-a17d83ea-750a-495f-9f68-6f7ea2f4e4e2 button.colab-df-convert');\n",
              "        buttonEl.style.display =\n",
              "          google.colab.kernel.accessAllowed ? 'block' : 'none';\n",
              "\n",
              "        async function convertToInteractive(key) {\n",
              "          const element = document.querySelector('#df-a17d83ea-750a-495f-9f68-6f7ea2f4e4e2');\n",
              "          const dataTable =\n",
              "            await google.colab.kernel.invokeFunction('convertToInteractive',\n",
              "                                                     [key], {});\n",
              "          if (!dataTable) return;\n",
              "\n",
              "          const docLinkHtml = 'Like what you see? Visit the ' +\n",
              "            '<a target=\"_blank\" href=https://colab.research.google.com/notebooks/data_table.ipynb>data table notebook</a>'\n",
              "            + ' to learn more about interactive tables.';\n",
              "          element.innerHTML = '';\n",
              "          dataTable['output_type'] = 'display_data';\n",
              "          await google.colab.output.renderOutput(dataTable, element);\n",
              "          const docLink = document.createElement('div');\n",
              "          docLink.innerHTML = docLinkHtml;\n",
              "          element.appendChild(docLink);\n",
              "        }\n",
              "      </script>\n",
              "    </div>\n",
              "  </div>\n",
              "  "
            ]
          },
          "metadata": {},
          "execution_count": 59
        }
      ]
    },
    {
      "cell_type": "code",
      "source": [
        "plt.style.use('ggplot')"
      ],
      "metadata": {
        "id": "L-Zo-mAg67nY"
      },
      "execution_count": null,
      "outputs": []
    },
    {
      "cell_type": "code",
      "source": [
        "ecom_data.boxplot(figsize=(20,5))"
      ],
      "metadata": {
        "colab": {
          "base_uri": "https://localhost:8080/",
          "height": 291
        },
        "id": "8udr0jmoxy4p",
        "outputId": "73787a4d-5179-4386-8cd5-2a3da8998432"
      },
      "execution_count": null,
      "outputs": [
        {
          "output_type": "execute_result",
          "data": {
            "text/plain": [
              "<matplotlib.axes._subplots.AxesSubplot at 0x7f46b69c8110>"
            ]
          },
          "metadata": {},
          "execution_count": 70
        },
        {
          "output_type": "display_data",
          "data": {
            "text/plain": [
              "<Figure size 1440x360 with 1 Axes>"
            ],
            "image/png": "[encoded data removed]"
          },
          "metadata": {}
        }
      ]
    },
    {
      "cell_type": "code",
      "source": [
        "sns.heatmap(ecom_data.corr())"
      ],
      "metadata": {
        "colab": {
          "base_uri": "https://localhost:8080/",
          "height": 362
        },
        "id": "9-8_Ebjrxy_K",
        "outputId": "cd49793b-b632-4c96-c2ef-b4e4b075a5d4"
      },
      "execution_count": null,
      "outputs": [
        {
          "output_type": "execute_result",
          "data": {
            "text/plain": [
              "<matplotlib.axes._subplots.AxesSubplot at 0x7f46b31dde50>"
            ]
          },
          "metadata": {},
          "execution_count": 76
        },
        {
          "output_type": "display_data",
          "data": {
            "text/plain": [
              "<Figure size 432x288 with 2 Axes>"
            ],
            "image/png": "[encoded data removed]"
          },
          "metadata": {}
        }
      ]
    },
    {
      "cell_type": "code",
      "source": [
        "sns.heatmap(ecom_data.corr(),cmap='Blues',linewidths=3.5)"
      ],
      "metadata": {
        "colab": {
          "base_uri": "https://localhost:8080/",
          "height": 362
        },
        "id": "m2NblUsjxzCH",
        "outputId": "539165a4-e2fd-4057-d34a-c979c57f02ca"
      },
      "execution_count": null,
      "outputs": [
        {
          "output_type": "execute_result",
          "data": {
            "text/plain": [
              "<matplotlib.axes._subplots.AxesSubplot at 0x7f46b2f0e690>"
            ]
          },
          "metadata": {},
          "execution_count": 102
        },
        {
          "output_type": "display_data",
          "data": {
            "text/plain": [
              "<Figure size 432x288 with 2 Axes>"
            ],
            "image/png": "[encoded data removed]"
          },
          "metadata": {}
        }
      ]
    },
    {
      "cell_type": "code",
      "source": [
        "ecom_data.boxplot(['price'])"
      ],
      "metadata": {
        "colab": {
          "base_uri": "https://localhost:8080/",
          "height": 293
        },
        "id": "hmSib_j3_pWe",
        "outputId": "e342f33d-5e47-4e11-8876-d68ad910dba9"
      },
      "execution_count": null,
      "outputs": [
        {
          "output_type": "execute_result",
          "data": {
            "text/plain": [
              "<matplotlib.axes._subplots.AxesSubplot at 0x7f46b30d4a90>"
            ]
          },
          "metadata": {},
          "execution_count": 105
        },
        {
          "output_type": "display_data",
          "data": {
            "text/plain": [
              "<Figure size 432x288 with 1 Axes>"
            ],
            "image/png": "[encoded data removed]"
          },
          "metadata": {}
        }
      ]
    },
    {
      "cell_type": "code",
      "source": [
        "sns.heatmap(ecom_data[['price','status']].corr())"
      ],
      "metadata": {
        "colab": {
          "base_uri": "https://localhost:8080/",
          "height": 286
        },
        "id": "FN36EOPVcn5a",
        "outputId": "64170349-f37b-469d-bbc0-95f87f44405c"
      },
      "execution_count": null,
      "outputs": [
        {
          "output_type": "execute_result",
          "data": {
            "text/plain": [
              "<matplotlib.axes._subplots.AxesSubplot at 0x7f46bee59bd0>"
            ]
          },
          "metadata": {},
          "execution_count": 107
        },
        {
          "output_type": "display_data",
          "data": {
            "text/plain": [
              "<Figure size 432x288 with 2 Axes>"
            ],
            "image/png": "[encoded data removed]"
          },
          "metadata": {}
        }
      ]
    },
    {
      "cell_type": "code",
      "source": [
        "sns.heatmap(ecom_data[['Year','qty_ordered']].corr())"
      ],
      "metadata": {
        "colab": {
          "base_uri": "https://localhost:8080/",
          "height": 287
        },
        "id": "R3afgpD8cn72",
        "outputId": "281cf65b-30e4-422a-d130-b9d4ab296b9f"
      },
      "execution_count": null,
      "outputs": [
        {
          "output_type": "execute_result",
          "data": {
            "text/plain": [
              "<matplotlib.axes._subplots.AxesSubplot at 0x7f46ba98c410>"
            ]
          },
          "metadata": {},
          "execution_count": 112
        },
        {
          "output_type": "display_data",
          "data": {
            "text/plain": [
              "<Figure size 432x288 with 2 Axes>"
            ],
            "image/png": "[encoded data removed]"
          },
          "metadata": {}
        }
      ]
    },
    {
      "cell_type": "code",
      "source": [
        "sns.distplot(ecom_data['price'])"
      ],
      "metadata": {
        "colab": {
          "base_uri": "https://localhost:8080/",
          "height": 354
        },
        "id": "i4inNBPhcn9j",
        "outputId": "7da4cb9e-f067-4127-bbc0-01c2aa7bc091"
      },
      "execution_count": null,
      "outputs": [
        {
          "output_type": "stream",
          "name": "stderr",
          "text": [
            "/usr/local/lib/python3.7/dist-packages/seaborn/distributions.py:2619: FutureWarning: `distplot` is a deprecated function and will be removed in a future version. Please adapt your code to use either `displot` (a figure-level function with similar flexibility) or `histplot` (an axes-level function for histograms).\n",
            "  warnings.warn(msg, FutureWarning)\n"
          ]
        },
        {
          "output_type": "execute_result",
          "data": {
            "text/plain": [
              "<matplotlib.axes._subplots.AxesSubplot at 0x7f46bb22a190>"
            ]
          },
          "metadata": {},
          "execution_count": 113
        },
        {
          "output_type": "display_data",
          "data": {
            "text/plain": [
              "<Figure size 432x288 with 1 Axes>"
            ],
            "image/png": "[encoded data removed]"
          },
          "metadata": {}
        }
      ]
    },
    {
      "cell_type": "code",
      "source": [
        "sns.stripplot(x=ecom_data['price'],y=ecom_data['category_name_1'])"
      ],
      "metadata": {
        "colab": {
          "base_uri": "https://localhost:8080/",
          "height": 299
        },
        "id": "x7bzjiK0coEG",
        "outputId": "eae82457-6e8f-4773-c07c-08679efda524"
      },
      "execution_count": null,
      "outputs": [
        {
          "output_type": "execute_result",
          "data": {
            "text/plain": [
              "<matplotlib.axes._subplots.AxesSubplot at 0x7f46ba73c750>"
            ]
          },
          "metadata": {},
          "execution_count": 114
        },
        {
          "output_type": "display_data",
          "data": {
            "text/plain": [
              "<Figure size 432x288 with 1 Axes>"
            ],
            "image/png": "[encoded data removed]"
          },
          "metadata": {}
        }
      ]
    },
    {
      "cell_type": "code",
      "source": [
        "sns.barplot(x=ecom_data['price'],y=ecom_data['category_name_1'])"
      ],
      "metadata": {
        "colab": {
          "base_uri": "https://localhost:8080/",
          "height": 299
        },
        "id": "vYGJ6bQNcoGR",
        "outputId": "b8228460-bab3-4c0b-e4df-0b274171ddda"
      },
      "execution_count": null,
      "outputs": [
        {
          "output_type": "execute_result",
          "data": {
            "text/plain": [
              "<matplotlib.axes._subplots.AxesSubplot at 0x7f46ba417710>"
            ]
          },
          "metadata": {},
          "execution_count": 115
        },
        {
          "output_type": "display_data",
          "data": {
            "text/plain": [
              "<Figure size 432x288 with 1 Axes>"
            ],
            "image/png": "[encoded data removed]"
          },
          "metadata": {}
        }
      ]
    },
    {
      "cell_type": "code",
      "source": [
        "plt.xticks(rotation=90)\n",
        "plt.hist(ecom_data['payment_method'])"
      ],
      "metadata": {
        "colab": {
          "base_uri": "https://localhost:8080/",
          "height": 417
        },
        "id": "KHXbZXX5coIj",
        "outputId": "0d0ab308-633f-4f61-bc59-2f33c9b1489a"
      },
      "execution_count": null,
      "outputs": [
        {
          "output_type": "execute_result",
          "data": {
            "text/plain": [
              "(array([2.72837e+05, 8.22400e+03, 1.45500e+03, 4.72000e+02, 1.70000e+02,\n",
              "        9.76550e+04, 1.56330e+04, 1.18041e+05, 4.52030e+04, 2.48230e+04]),\n",
              " array([ 0. ,  1.7,  3.4,  5.1,  6.8,  8.5, 10.2, 11.9, 13.6, 15.3, 17. ]),\n",
              " <a list of 10 Patch objects>)"
            ]
          },
          "metadata": {},
          "execution_count": 132
        },
        {
          "output_type": "display_data",
          "data": {
            "text/plain": [
              "<Figure size 432x288 with 1 Axes>"
            ],
            "image/png": "[encoded data removed]"
          },
          "metadata": {}
        }
      ]
    },
    {
      "cell_type": "code",
      "source": [
        "sns.boxplot(ecom_data['price'])"
      ],
      "metadata": {
        "colab": {
          "base_uri": "https://localhost:8080/",
          "height": 354
        },
        "id": "w9B6rPL9coKb",
        "outputId": "381630aa-8e58-488c-cd6b-b88239a01001"
      },
      "execution_count": null,
      "outputs": [
        {
          "output_type": "stream",
          "name": "stderr",
          "text": [
            "/usr/local/lib/python3.7/dist-packages/seaborn/_decorators.py:43: FutureWarning: Pass the following variable as a keyword arg: x. From version 0.12, the only valid positional argument will be `data`, and passing other arguments without an explicit keyword will result in an error or misinterpretation.\n",
            "  FutureWarning\n"
          ]
        },
        {
          "output_type": "execute_result",
          "data": {
            "text/plain": [
              "<matplotlib.axes._subplots.AxesSubplot at 0x7f46b2dc1990>"
            ]
          },
          "metadata": {},
          "execution_count": 134
        },
        {
          "output_type": "display_data",
          "data": {
            "text/plain": [
              "<Figure size 432x288 with 1 Axes>"
            ],
            "image/png": "[encoded data removed]"
          },
          "metadata": {}
        }
      ]
    },
    {
      "cell_type": "code",
      "source": [
        "ecom_data.to_csv('Pak Ecommerce.csv')"
      ],
      "metadata": {
        "id": "LUCDjU-RcoNF"
      },
      "execution_count": null,
      "outputs": []
    },
    {
      "cell_type": "code",
      "source": [],
      "metadata": {
        "id": "4OzNXVY9coPQ"
      },
      "execution_count": null,
      "outputs": []
    },
    {
      "cell_type": "code",
      "source": [],
      "metadata": {
        "id": "Wefqo2gpcoSx"
      },
      "execution_count": null,
      "outputs": []
    },
    {
      "cell_type": "code",
      "source": [],
      "metadata": {
        "id": "0qj0TetGcoy6"
      },
      "execution_count": null,
      "outputs": []
    },
    {
      "cell_type": "code",
      "source": [],
      "metadata": {
        "id": "wmrV84JGco0k"
      },
      "execution_count": null,
      "outputs": []
    },
    {
      "cell_type": "code",
      "source": [],
      "metadata": {
        "id": "1qlG8Jnhco3J"
      },
      "execution_count": null,
      "outputs": []
    },
    {
      "cell_type": "code",
      "source": [],
      "metadata": {
        "id": "OmvoDtikco5v"
      },
      "execution_count": null,
      "outputs": []
    },
    {
      "cell_type": "code",
      "source": [],
      "metadata": {
        "id": "el8_ZoGqco8g"
      },
      "execution_count": null,
      "outputs": []
    },
    {
      "cell_type": "code",
      "source": [],
      "metadata": {
        "id": "__u_rF2Yco_U"
      },
      "execution_count": null,
      "outputs": []
    },
    {
      "cell_type": "code",
      "source": [],
      "metadata": {
        "id": "yiqxb6wYcpC3"
      },
      "execution_count": null,
      "outputs": []
    }
  ]
}